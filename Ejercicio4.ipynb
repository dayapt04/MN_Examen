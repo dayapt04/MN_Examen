{
 "cells": [
  {
   "cell_type": "code",
   "execution_count": null,
   "metadata": {},
   "outputs": [],
   "source": [
    "def secant_method(f, x0, x1, tol=1e-6, max_iter=100):\n",
    "    \"\"\"\n",
    "    Secant method for finding the root of a function.\n",
    "\n",
    "    # Parameters\n",
    "    * ``f``: The function for which to find the root.\n",
    "    * ``x0``, x1: Initial guesses for the root.\n",
    "    * ``tol``: Tolerance for convergence (default: 1e-6).\n",
    "    * ``max_iter``: Maximum number of iterations (default: 100).\n",
    "\n",
    "    # Returns\n",
    "    * ``x_curr`` The approximate root of the function.\n",
    "    * ``iter_count`` The number of iterations taken.\n",
    "    \"\"\"\n",
    "    x_prev = x0\n",
    "    x_curr = x1\n",
    "    iter_count = 0\n",
    "\n",
    "    while abs(f(x_curr)) > tol and iter_count < max_iter:\n",
    "\n",
    "        x_next = x_curr - f(x_curr) * (x_curr - x_prev) / (f(x_curr) - f(x_prev))\n",
    "        x_prev = x_curr\n",
    "        x_curr = x_next\n",
    "        iter_count += 1\n",
    "\n",
    "    return x_curr, iter_count"
   ]
  },
  {
   "cell_type": "code",
   "execution_count": 3,
   "metadata": {},
   "outputs": [
    {
     "name": "stdout",
     "output_type": "stream",
     "text": [
      "Llamada i=1\t x=3.00000\t y=2.00\n",
      "Llamada i=2\t x=3.00000\t y=2.00\n",
      "Llamada i=3\t x=3.00000\t y=2.00\n",
      "Llamada i=4\t x=2.00000\t y=-3.00\n",
      "Llamada i=5\t x=2.60000\t y=-1.10\n",
      "Llamada i=6\t x=2.60000\t y=-1.10\n",
      "Llamada i=7\t x=2.60000\t y=-1.10\n",
      "Llamada i=8\t x=3.00000\t y=2.00\n",
      "Llamada i=9\t x=2.74227\t y=-0.20\n",
      "Llamada i=10\t x=2.74227\t y=-0.20\n",
      "Llamada i=11\t x=2.74227\t y=-0.20\n",
      "Llamada i=12\t x=2.60000\t y=-1.10\n",
      "Llamada i=13\t x=2.77296\t y=0.03\n",
      "Llamada i=14\t x=2.77296\t y=0.03\n",
      "Llamada i=15\t x=2.77296\t y=0.03\n",
      "Llamada i=16\t x=2.74227\t y=-0.20\n",
      "Llamada i=17\t x=2.76922\t y=-0.00\n",
      "Llamada i=18\t x=2.76922\t y=-0.00\n",
      "Llamada i=19\t x=2.76922\t y=-0.00\n",
      "Llamada i=20\t x=2.77296\t y=0.03\n",
      "Llamada i=21\t x=2.76929\t y=-0.00\n",
      "Llamada i=22\t x=2.76929\t y=-0.00\n",
      "Llamada i=23\t x=2.76929\t y=-0.00\n",
      "Llamada i=24\t x=2.76922\t y=-0.00\n",
      "Llamada i=25\t x=2.76929\t y=0.00\n"
     ]
    },
    {
     "data": {
      "text/plain": [
       "(2.7692923542484045, 6)"
      ]
     },
     "execution_count": 3,
     "metadata": {},
     "output_type": "execute_result"
    }
   ],
   "source": [
    "i = 0\n",
    "\n",
    "\n",
    "def func(x):\n",
    "    global i\n",
    "    i += 1\n",
    "    y = x**3 - 3 * x**2 + x - 1\n",
    "    print(f\"Llamada i={i}\\t x={x:.5f}\\t y={y:.2f}\")\n",
    "    return y\n",
    "\n",
    "\n",
    "secant_method(func, x0=2, x1=3)"
   ]
  },
  {
   "cell_type": "code",
   "execution_count": null,
   "metadata": {},
   "outputs": [],
   "source": [
    "def Spline(x: float, x0: float, pars: dict[str, float]) -> float:\n",
    "    a = pars[\"a\"]\n",
    "    b = pars[\"b\"]\n",
    "    c = pars[\"c\"]\n",
    "    d = pars[\"d\"]\n",
    "    return a + b * (x - x0) + c * (x - x0) ** 2 + d * (x - x0) ** 3\n",
    "\n",
    "Spline()\n"
   ]
  },
  {
   "cell_type": "code",
   "execution_count": null,
   "metadata": {},
   "outputs": [],
   "source": [
    "import matplotlib.pyplot as plt\n",
    "import numpy as np\n",
    "\n",
    "xs = [-1, 0, 1]\n",
    "ys = [1, 5, 3]\n",
    "s = [\n",
    "    {\"a\": 1, \"b\": 5.5, \"c\": 0, \"d\": -1.5},\n",
    "    {\"a\": 5, \"b\": 1, \"c\": -4.5, \"d\": 1.5},\n",
    "]\n",
    "for i, x_i in enumerate(xs[:-1]):\n",
    "    _x = np.linspace(x_i, xs[i + 1], 20)\n",
    "    _y = Spline(_x, x_i, s[i])\n",
    "    plt.plot(_x, _y, color=\"red\")\n",
    "\n",
    "plt.scatter(xs, ys)\n",
    "plt.xlabel(\"x\")\n",
    "plt.ylabel(\"y\")\n",
    "plt.title(\"Interpolación con splines cúbicos\")\n",
    "plt.show()\n"
   ]
  },
  {
   "cell_type": "code",
   "execution_count": 7,
   "metadata": {},
   "outputs": [],
   "source": [
    "from scipy.optimize import newton\n",
    "import math"
   ]
  },
  {
   "cell_type": "code",
   "execution_count": 19,
   "metadata": {},
   "outputs": [
    {
     "name": "stdout",
     "output_type": "stream",
     "text": [
      "Failed to converge after 1000 iterations, value is 0.0.\n"
     ]
    },
    {
     "data": {
      "text/plain": [
       "(2.769292354238632,\n",
       "       converged: True\n",
       "            flag: converged\n",
       "  function_calls: 10\n",
       "      iterations: 5\n",
       "            root: 2.769292354238632\n",
       "          method: newton)"
      ]
     },
     "execution_count": 19,
     "metadata": {},
     "output_type": "execute_result"
    }
   ],
   "source": [
    "def f(x):\n",
    "    return x**3-3*x**2+x-1\n",
    "\n",
    "def fprime(x):\n",
    "    return 3*x**2-6*x+1\n",
    "\n",
    "x0 = 1 + math.sqrt(6)/3\n",
    "\n",
    "try:\n",
    "    newton(f,0,fprime,maxiter=1000, full_output=True)\n",
    "except RuntimeError as e:\n",
    "        print(e)\n",
    "\n",
    "newton(f,3,fprime,maxiter=50, full_output=True)"
   ]
  },
  {
   "cell_type": "code",
   "execution_count": 20,
   "metadata": {},
   "outputs": [],
   "source": [
    "from typing import Callable\n",
    "def sign(x: float) -> int:\n",
    "    if x > 0:\n",
    "        return 1\n",
    "    elif x < 0:\n",
    "        return -1\n",
    "    else:\n",
    "        return 0\n",
    "    \n",
    "\n",
    "def bisection(\n",
    "    a: float, b: float, *, equation: Callable[[float], float], tol: float, N: int\n",
    ") -> tuple[float, float, float, int] | None:\n",
    "    i = 1\n",
    "\n",
    "    assert a < b, \"a not lower than b, the interval is not valid.\"\n",
    "    assert (\n",
    "        equation(a) * equation(b) < 0\n",
    "    ), \"The function does not change sign over the interval.\"\n",
    "\n",
    "    Fa = equation(a)\n",
    "    p = a \n",
    "    for i in range(N):\n",
    "        p = a + (b - a) / 2\n",
    "        FP = equation(p)\n",
    "        if FP == 0 or (b - a) / 2 < tol:\n",
    "            return p, a, b, i\n",
    "\n",
    "        if sign(Fa) * sign(FP) > 0:\n",
    "            a = p\n",
    "            Fa = FP\n",
    "        else:\n",
    "            b = p\n",
    "    return p, a, b, i\n"
   ]
  },
  {
   "cell_type": "code",
   "execution_count": 36,
   "metadata": {},
   "outputs": [
    {
     "ename": "AssertionError",
     "evalue": "The function does not change sign over the interval.",
     "output_type": "error",
     "traceback": [
      "\u001b[1;31m---------------------------------------------------------------------------\u001b[0m",
      "\u001b[1;31mAssertionError\u001b[0m                            Traceback (most recent call last)",
      "Cell \u001b[1;32mIn[36], line 7\u001b[0m\n\u001b[0;32m      4\u001b[0m     \u001b[38;5;28;01mreturn\u001b[39;00m np\u001b[38;5;241m.\u001b[39msin(x)\n\u001b[0;32m      6\u001b[0m \u001b[38;5;28;01mtry\u001b[39;00m:\n\u001b[1;32m----> 7\u001b[0m     bisection(\u001b[38;5;241m-\u001b[39m\u001b[38;5;241m2.5\u001b[39m,\u001b[38;5;241m-\u001b[39m\u001b[38;5;241m1\u001b[39m,equation\u001b[38;5;241m=\u001b[39mf,tol\u001b[38;5;241m=\u001b[39m\u001b[38;5;241m1e-2\u001b[39m,N\u001b[38;5;241m=\u001b[39m\u001b[38;5;241m10\u001b[39m)\n\u001b[0;32m      8\u001b[0m \u001b[38;5;28;01mexcept\u001b[39;00m \u001b[38;5;167;01mRuntimeError\u001b[39;00m \u001b[38;5;28;01mas\u001b[39;00m e:\n\u001b[0;32m      9\u001b[0m         \u001b[38;5;28mprint\u001b[39m(e)\n",
      "Cell \u001b[1;32mIn[20], line 18\u001b[0m, in \u001b[0;36mbisection\u001b[1;34m(a, b, equation, tol, N)\u001b[0m\n\u001b[0;32m     14\u001b[0m i \u001b[38;5;241m=\u001b[39m \u001b[38;5;241m1\u001b[39m\n\u001b[0;32m     16\u001b[0m \u001b[38;5;28;01massert\u001b[39;00m a \u001b[38;5;241m<\u001b[39m b, \u001b[38;5;124m\"\u001b[39m\u001b[38;5;124ma not lower than b, the interval is not valid.\u001b[39m\u001b[38;5;124m\"\u001b[39m\n\u001b[0;32m     17\u001b[0m \u001b[38;5;28;01massert\u001b[39;00m (\n\u001b[1;32m---> 18\u001b[0m     equation(a) \u001b[38;5;241m*\u001b[39m equation(b) \u001b[38;5;241m<\u001b[39m \u001b[38;5;241m0\u001b[39m\n\u001b[0;32m     19\u001b[0m ), \u001b[38;5;124m\"\u001b[39m\u001b[38;5;124mThe function does not change sign over the interval.\u001b[39m\u001b[38;5;124m\"\u001b[39m\n\u001b[0;32m     21\u001b[0m Fa \u001b[38;5;241m=\u001b[39m equation(a)\n\u001b[0;32m     22\u001b[0m p \u001b[38;5;241m=\u001b[39m a \n",
      "\u001b[1;31mAssertionError\u001b[0m: The function does not change sign over the interval."
     ]
    }
   ],
   "source": [
    "import numpy as np\n",
    "\n",
    "def f(x):\n",
    "    return np.sin(x)\n",
    "\n",
    "try:\n",
    "    bisection(-2.5,-1,equation=f,tol=1e-2,N=10)\n",
    "except RuntimeError as e:\n",
    "        print(e)\n",
    "\n",
    "# bisection(-2.5,-1,equation=f,tol=1e-2,N=10)\n"
   ]
  }
 ],
 "metadata": {
  "kernelspec": {
   "display_name": "Python 3 (ipykernel)",
   "language": "python",
   "name": "python3"
  },
  "language_info": {
   "codemirror_mode": {
    "name": "ipython",
    "version": 3
   },
   "file_extension": ".py",
   "mimetype": "text/x-python",
   "name": "python",
   "nbconvert_exporter": "python",
   "pygments_lexer": "ipython3",
   "version": "3.12.4"
  }
 },
 "nbformat": 4,
 "nbformat_minor": 2
}
